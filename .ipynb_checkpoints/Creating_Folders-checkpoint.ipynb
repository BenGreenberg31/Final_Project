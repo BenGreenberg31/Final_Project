{
 "cells": [
  {
   "cell_type": "code",
   "execution_count": 2,
   "id": "454682d3-1310-48f4-80fd-10d886b64066",
   "metadata": {},
   "outputs": [],
   "source": [
    "import imdb_scraper "
   ]
  },
  {
   "cell_type": "code",
   "execution_count": 3,
   "id": "458421ff-aee3-4495-bc99-32fb5140f85c",
   "metadata": {},
   "outputs": [],
   "source": [
    "import pandas as pd"
   ]
  },
  {
   "cell_type": "code",
   "execution_count": 4,
   "id": "985e55a6-8173-4e01-887f-fc374f1db266",
   "metadata": {},
   "outputs": [],
   "source": [
    "df = pd.read_csv('100_film_directors.csv')"
   ]
  },
  {
   "cell_type": "code",
   "execution_count": 5,
   "id": "f6e6b67c-c9e8-4035-9739-e9d89eb5ddcc",
   "metadata": {},
   "outputs": [],
   "source": [
    "urls = df['IMDb_URI'].to_list()"
   ]
  },
  {
   "cell_type": "code",
   "execution_count": 6,
   "id": "e53672ea-e660-4ebe-ba27-95b666fec1d9",
   "metadata": {},
   "outputs": [],
   "source": [
    "import re\n",
    "director_ids = []\n",
    "for url in urls:\n",
    "    pattern = r'(nm\\d+)/'\n",
    "# Using re.search to find the pattern in the URL\n",
    "    match = re.search(pattern, url)\n",
    "    if match:\n",
    "        extracted_string = match.group(1)\n",
    "        director_ids.append(extracted_string)\n",
    "    else:\n",
    "        print(\"Pattern not found in the URL.\")"
   ]
  },
  {
   "cell_type": "code",
   "execution_count": 22,
   "id": "53b15f55-6431-4974-a1ea-ecf8027abfef",
   "metadata": {},
   "outputs": [
    {
     "name": "stderr",
     "output_type": "stream",
     "text": [
      "textutils.py, 136, (<class 'requests.exceptions.ReadTimeout'>, ReadTimeout(ReadTimeoutError(\"HTTPSConnectionPool(host='www.imdb.com', port=443): Read timed out. (read timeout=10)\")), <traceback object at 0x16c259000>)\turi: https://www.imdb.com/name/nm0000165/fullcredits/\n",
      "textutils.py, 136, (<class 'requests.exceptions.ReadTimeout'>, ReadTimeout(ReadTimeoutError(\"HTTPSConnectionPool(host='www.imdb.com', port=443): Read timed out. (read timeout=10)\")), <traceback object at 0x16cfc0bc0>)\turi: https://www.imdb.com/name/nm0000229/fullcredits/\n"
     ]
    }
   ],
   "source": [
    "import json\n",
    "import os\n",
    "for id in director_ids:\n",
    "    credits_dictionary = imdb_scraper.get_full_credits_for_director(id)\n",
    "    directory = id\n",
    "    if not os.path.exists(directory):\n",
    "        os.makedirs(directory)\n",
    "    json_file_path = os.path.join(directory, '{}.json'.format(id))\n",
    "    with open(json_file_path, 'w') as json_file:\n",
    "        json.dump(credits_dictionary, json_file)"
   ]
  },
  {
   "cell_type": "code",
   "execution_count": 9,
   "id": "337415db-78ca-4e21-852e-48197b080717",
   "metadata": {},
   "outputs": [],
   "source": [
    "import json\n",
    "import os\n",
    "def read_json_files_from_directory(directory):\n",
    "    json_data = []\n",
    "    for filename in os.listdir(directory):\n",
    "        if filename.endswith('.json'):\n",
    "            filepath = os.path.join(directory, filename)\n",
    "            with open(filepath, 'r') as file:\n",
    "                data = json.load(file)\n",
    "                json_data.append(data)\n",
    "    return json_data"
   ]
  },
  {
   "cell_type": "code",
   "execution_count": 12,
   "id": "f1aa210c-07c4-40d7-ae8a-ed86d17650ab",
   "metadata": {},
   "outputs": [
    {
     "name": "stdout",
     "output_type": "stream",
     "text": [
      "Directory not found: nm0009190\n",
      "Directory not found: nm0000095\n",
      "Directory not found: nm0000759\n",
      "Directory not found: nm0027572\n",
      "Directory not found: nm0000777\n",
      "Directory not found: nm0036349\n",
      "Directory not found: nm0004716\n",
      "Directory not found: nm0037708\n",
      "Directory not found: nm0000876\n",
      "Directory not found: nm0000881\n",
      "Directory not found: nm0000941\n",
      "Directory not found: nm0122344\n",
      "Directory not found: nm0000318\n",
      "Directory not found: nm0000116\n",
      "Directory not found: nm0001005\n",
      "Directory not found: nm0138927\n",
      "Directory not found: nm0160840\n",
      "Directory not found: nm0001054\n",
      "Directory not found: nm0001060\n",
      "Directory not found: nm3363032\n",
      "Directory not found: nm0000338\n",
      "Directory not found: nm0001068\n",
      "Directory not found: nm0000343\n",
      "Directory not found: nm0001081\n",
      "Directory not found: nm0190859\n",
      "Directory not found: nm0200005\n",
      "Directory not found: nm0000361\n",
      "Directory not found: nm0868219\n",
      "Directory not found: nm1148550\n",
      "Directory not found: nm0000142\n",
      "Directory not found: nm0000386\n",
      "Directory not found: nm0269463\n",
      "Directory not found: nm0000399\n",
      "Directory not found: nm0281945\n",
      "Directory not found: nm1560977\n",
      "Directory not found: nm0298807\n",
      "Directory not found: nm1950086\n",
      "Directory not found: nm0336620\n",
      "Directory not found: nm0336695\n",
      "Directory not found: nm0362566\n",
      "Directory not found: nm1802161\n",
      "Directory not found: nm0366004\n",
      "Directory not found: nm0001331\n",
      "Directory not found: nm0002132\n",
      "Directory not found: nm1716636\n",
      "Directory not found: nm0392237\n",
      "Directory not found: nm0000165\n",
      "Directory not found: nm0327944\n",
      "Directory not found: nm0001392\n",
      "Directory not found: nm0000464\n",
      "Directory not found: nm1503575\n",
      "Directory not found: nm0420941\n",
      "Directory not found: nm0426059\n",
      "Directory not found: nm0005069\n",
      "Directory not found: nm0476201\n",
      "Directory not found: nm1883257\n",
      "Directory not found: nm0000490\n",
      "Directory not found: nm0000487\n",
      "Directory not found: nm0501435\n",
      "Directory not found: nm0000500\n",
      "Directory not found: nm0510912\n",
      "Directory not found: nm0000186\n",
      "Directory not found: nm0000517\n",
      "Directory not found: nm0000520\n",
      "Directory not found: nm0570912\n",
      "Directory not found: nm0583600\n",
      "Directory not found: nm0590122\n",
      "Directory not found: nm0619762\n",
      "Directory not found: nm0634240\n",
      "Directory not found: nm0668247\n",
      "Directory not found: nm1443502\n",
      "Directory not found: nm1347153\n",
      "Directory not found: nm0001631\n",
      "Directory not found: nm0697656\n",
      "Directory not found: nm0000600\n",
      "Directory not found: nm2011696\n",
      "Directory not found: nm0716980\n",
      "Directory not found: nm0751102\n",
      "Directory not found: nm0751577\n",
      "Directory not found: nm0000217\n",
      "Directory not found: nm0000631\n",
      "Directory not found: nm1119645\n",
      "Directory not found: nm0796117\n",
      "Directory not found: nm0001741\n",
      "Directory not found: nm0001752\n",
      "Directory not found: nm0000229\n",
      "Directory not found: nm0000231\n",
      "Directory not found: nm0000233\n",
      "Directory not found: nm0853380\n",
      "Directory not found: nm0001814\n",
      "Directory not found: nm0893659\n",
      "Directory not found: nm0898288\n",
      "Directory not found: nm0905154\n",
      "Directory not found: nm0905152\n",
      "Directory not found: nm0169806\n",
      "Directory not found: nm1490123\n",
      "Directory not found: nm0911061\n",
      "Directory not found: nm1218281\n",
      "Directory not found: nm0946734\n",
      "Directory not found: nm0000709\n",
      "Directory not found: nm2125482\n"
     ]
    }
   ],
   "source": [
    "all_json_data = []\n",
    "\n",
    "# Loop through each directory and read JSON files\n",
    "for directory in director_ids:\n",
    "    try:\n",
    "        json_data = read_json_files_from_directory(directory)\n",
    "        all_json_data.extend(json_data)\n",
    "    except FileNotFoundError:\n",
    "        print(\"Directory not found:\", directory)"
   ]
  },
  {
   "cell_type": "code",
   "execution_count": null,
   "id": "28556190-b6bc-4cae-8a7f-4bbf07c88a79",
   "metadata": {},
   "outputs": [],
   "source": []
  }
 ],
 "metadata": {
  "kernelspec": {
   "display_name": "Python 3 (ipykernel)",
   "language": "python",
   "name": "python3"
  },
  "language_info": {
   "codemirror_mode": {
    "name": "ipython",
    "version": 3
   },
   "file_extension": ".py",
   "mimetype": "text/x-python",
   "name": "python",
   "nbconvert_exporter": "python",
   "pygments_lexer": "ipython3",
   "version": "3.11.7"
  }
 },
 "nbformat": 4,
 "nbformat_minor": 5
}
